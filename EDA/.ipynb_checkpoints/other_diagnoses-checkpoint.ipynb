{
 "cells": [
  {
   "cell_type": "markdown",
   "id": "b03cf85f-0b62-4818-a47c-e315102c05e2",
   "metadata": {},
   "source": [
    "# Other Diagnoses of Patients with Kidney Disease\n",
    "Previously, we identified which patients in the MIMIC-IV dataset were diagnosed with kidney disease. The result of this analysis was stored in a dictionary, where the keys are the `subject_id` associated with the patient, and the values are tuples of the form: (`seq_num`, `icd_code`, `icd_version`). The objective of this notebook is to make it easier to analyze what other conditions the patients with kidney disease were diagnosed with. This analysis is important for being able to finalize the dataset that will be used for modeling. "
   ]
  },
  {
   "cell_type": "code",
   "execution_count": 71,
   "id": "c69f6b42-44bf-4f75-8504-41aec072545b",
   "metadata": {},
   "outputs": [],
   "source": [
    "import pandas as pd\n",
    "import numpy as np\n",
    "import json"
   ]
  },
  {
   "cell_type": "code",
   "execution_count": 72,
   "id": "131dda76-7805-4cf1-9014-36b57f682e4a",
   "metadata": {},
   "outputs": [],
   "source": [
    "with open('../Data/kidney_disease_patients.json', 'r') as file:\n",
    "    kidney_disease_patients_dict = json.load(file)\n",
    "d_icd_diagnoses = pd.read_csv('../Data/d_icd_diagnoses.csv')"
   ]
  },
  {
   "cell_type": "markdown",
   "id": "25c6f479-2cfb-4157-bca7-88966de89833",
   "metadata": {},
   "source": [
    "The next cell implements the following steps. \n",
    "1. Randomly select a patient that was diagnosed with kidney disease.\n",
    "2. Get the `subject_id`, `icd_codes`, and `icd_versions` that are associated with this patient.\n",
    "3. Print out all diagnoses that the patient received.\n",
    "\n",
    "Note that, by changing the definition of `rand_int`, it is possible to eliminate the randomness from this process and select particular patients. \n"
   ]
  },
  {
   "cell_type": "code",
   "execution_count": 90,
   "id": "0a4c1a6f-99a3-4ebf-8bb5-7de7f88d6e76",
   "metadata": {},
   "outputs": [
    {
     "name": "stdout",
     "output_type": "stream",
     "text": [
      "Diagnoses for patient 10435478:\n",
      "\t Diagnosis 1 is: Cellulitis and abscess of leg, except foot\n",
      "\t Diagnosis 2 is: Acute kidney failure, unspecified\n",
      "\t Diagnosis 3 is: Contusion of lower leg\n",
      "\t Diagnosis 4 is: Other accident caused by striking against or being struck accidentally by objects or persons\n",
      "\t Diagnosis 5 is: Home accidents\n",
      "\t Diagnosis 6 is: Peripheral vascular disease, unspecified\n",
      "\t Diagnosis 7 is: Benign essential hypertension\n",
      "\t Diagnosis 8 is: Diabetes with unspecified complication, type II or unspecified type, uncontrolled\n",
      "\t Diagnosis 9 is: Coronary atherosclerosis of unspecified type of vessel, native or graft\n",
      "\t Diagnosis 10 is: Aortocoronary bypass status\n",
      "\t Diagnosis 11 is: Long-term (current) use of antiplatelet/antithrombotic\n"
     ]
    }
   ],
   "source": [
    "dict_keys = list(kidney_disease_patients_dict.keys())\n",
    "rand_int = np.random.randint(low = 0, high = len(dict_keys))\n",
    "subject_id = dict_keys[rand_int]\n",
    "random_patient = kidney_disease_patients_dict[subject_id]\n",
    "icd_codes = random_patient[1]\n",
    "icd_versions = random_patient[2]\n",
    "print(f'Diagnoses for patient {subject_id}:')\n",
    "for n in range(len(icd_codes)):\n",
    "    code_n = icd_codes[n]\n",
    "    version_n = icd_versions[n]\n",
    "    diagnosis = d_icd_diagnoses.loc[(d_icd_diagnoses['icd_code'] == code_n) & (d_icd_diagnoses['icd_version'] == version_n), 'long_title'].values[0]\n",
    "    print(f'\\t Diagnosis {n+1} is: {diagnosis}')"
   ]
  },
  {
   "cell_type": "code",
   "execution_count": null,
   "id": "61d92364-6c40-4198-8cae-adc2d1e4bd90",
   "metadata": {},
   "outputs": [],
   "source": []
  }
 ],
 "metadata": {
  "kernelspec": {
   "display_name": "Python [conda env:erdos_summer_2025]",
   "language": "python",
   "name": "conda-env-erdos_summer_2025-py"
  },
  "language_info": {
   "codemirror_mode": {
    "name": "ipython",
    "version": 3
   },
   "file_extension": ".py",
   "mimetype": "text/x-python",
   "name": "python",
   "nbconvert_exporter": "python",
   "pygments_lexer": "ipython3",
   "version": "3.12.10"
  }
 },
 "nbformat": 4,
 "nbformat_minor": 5
}
