{
 "cells": [
  {
   "cell_type": "markdown",
   "id": "d93bf67f-f5b5-4bcf-82b2-f5f5f237eec6",
   "metadata": {},
   "source": [
    "# Analysis of Diagnosis Data\n",
    "This notebook explores the diagnosis data that is available through MIMIC-IV. In particular, having determined the rows of *d_icd_diagnoses.csv* that relate to kidney disease, our first task is identifying the `subject_id` associated with patients that have been diagnosed with kidney disease. Once this has been accomplished, our next task is determining what other diagnosis codes are associated with these patients. In other words, out of the patients with kidney disease, we look for what other medical conditions the patient has. This information will be used to finalize the dataset used in our study. \n"
   ]
  },
  {
   "cell_type": "code",
   "execution_count": 69,
   "id": "de894195-ccd5-4690-b753-780b1cd2ccc3",
   "metadata": {},
   "outputs": [],
   "source": [
    "import pandas as pd\n",
    "import numpy as np \n",
    "import matplotlib.pyplot as plt\n",
    "import json"
   ]
  },
  {
   "cell_type": "markdown",
   "id": "ef141eba-94e6-4083-8c13-b985bef289b8",
   "metadata": {},
   "source": [
    "We begin by loading *d_icd_diagnoses.csv* into a pandas dataframe and viewing the first few rows. Notice that the index value $n$ corresponds to row $n+2$ in the csv file. This observation must be kept in mind when accessing the rows of the csv file that Amelia identified as being related to kidney disease. Once loaded, we get the corresponding `icd_code`, `icd_version`, and the `long_title`."
   ]
  },
  {
   "cell_type": "code",
   "execution_count": 70,
   "id": "cfbefbcc-6b6e-4a21-abe0-7a2234174950",
   "metadata": {},
   "outputs": [
    {
     "data": {
      "text/html": [
       "<div>\n",
       "<style scoped>\n",
       "    .dataframe tbody tr th:only-of-type {\n",
       "        vertical-align: middle;\n",
       "    }\n",
       "\n",
       "    .dataframe tbody tr th {\n",
       "        vertical-align: top;\n",
       "    }\n",
       "\n",
       "    .dataframe thead th {\n",
       "        text-align: right;\n",
       "    }\n",
       "</style>\n",
       "<table border=\"1\" class=\"dataframe\">\n",
       "  <thead>\n",
       "    <tr style=\"text-align: right;\">\n",
       "      <th></th>\n",
       "      <th>icd_code</th>\n",
       "      <th>icd_version</th>\n",
       "      <th>long_title</th>\n",
       "    </tr>\n",
       "  </thead>\n",
       "  <tbody>\n",
       "    <tr>\n",
       "      <th>0</th>\n",
       "      <td>0010</td>\n",
       "      <td>9</td>\n",
       "      <td>Cholera due to vibrio cholerae</td>\n",
       "    </tr>\n",
       "    <tr>\n",
       "      <th>1</th>\n",
       "      <td>0011</td>\n",
       "      <td>9</td>\n",
       "      <td>Cholera due to vibrio cholerae el tor</td>\n",
       "    </tr>\n",
       "    <tr>\n",
       "      <th>2</th>\n",
       "      <td>0019</td>\n",
       "      <td>9</td>\n",
       "      <td>Cholera, unspecified</td>\n",
       "    </tr>\n",
       "    <tr>\n",
       "      <th>3</th>\n",
       "      <td>0020</td>\n",
       "      <td>9</td>\n",
       "      <td>Typhoid fever</td>\n",
       "    </tr>\n",
       "    <tr>\n",
       "      <th>4</th>\n",
       "      <td>0021</td>\n",
       "      <td>9</td>\n",
       "      <td>Paratyphoid fever A</td>\n",
       "    </tr>\n",
       "  </tbody>\n",
       "</table>\n",
       "</div>"
      ],
      "text/plain": [
       "  icd_code  icd_version                             long_title\n",
       "0     0010            9         Cholera due to vibrio cholerae\n",
       "1     0011            9  Cholera due to vibrio cholerae el tor\n",
       "2     0019            9                   Cholera, unspecified\n",
       "3     0020            9                          Typhoid fever\n",
       "4     0021            9                    Paratyphoid fever A"
      ]
     },
     "execution_count": 70,
     "metadata": {},
     "output_type": "execute_result"
    }
   ],
   "source": [
    "diagnoses_codes_df = pd.read_csv('../Data/d_icd_diagnoses.csv')\n",
    "diagnoses_codes_df.head()"
   ]
  },
  {
   "cell_type": "code",
   "execution_count": 71,
   "id": "2590e9a3-16b3-4cf8-a4d8-a1ac6c3fb2fa",
   "metadata": {},
   "outputs": [],
   "source": [
    "kidney_disease_indices = [2668, 2670, 6001, 6002]\n",
    "kidney_disease_indices += [n for n in range(4660, 4678)]\n",
    "kidney_disease_indices += [n for n in range(5956, 6000)]\n",
    "kidney_disease_indices += [n for n in range(6026, 6031)]\n",
    "kidney_disease_indices += [n for n in range(6086, 6089)]\n",
    "kidney_disease_indices += [n for n in range(6609, 6614)]\n",
    "kidney_disease_indices = [n - 2 for n in kidney_disease_indices]  # Account for the difference between the pandas index and row number in the csv file"
   ]
  },
  {
   "cell_type": "code",
   "execution_count": 72,
   "id": "cd79c670-75e3-40b8-a922-e5bea789aefb",
   "metadata": {},
   "outputs": [],
   "source": [
    "icd_codes = list(diagnoses_codes_df['icd_code'].iloc[kidney_disease_indices])\n",
    "icd_versions = list(diagnoses_codes_df['icd_version'].iloc[kidney_disease_indices])\n",
    "diagnoses_title = list(diagnoses_codes_df['long_title'].iloc[kidney_disease_indices])"
   ]
  },
  {
   "cell_type": "markdown",
   "id": "0e8db73e-5506-4e5f-94cc-59f211e5f044",
   "metadata": {},
   "source": [
    "With the relevant `icd_code` and `icd_version` at hand, we now turn to the file *diagnoses_icd.csv*. This file contains the `subject_id` along with any diagnoses that were made. Our interest is extracting the `subject_id` of patients that were diagnosed with kidney disease. "
   ]
  },
  {
   "cell_type": "code",
   "execution_count": 73,
   "id": "2175f9dd-5c87-4cdd-b335-80304c5f9ce1",
   "metadata": {},
   "outputs": [
    {
     "data": {
      "text/html": [
       "<div>\n",
       "<style scoped>\n",
       "    .dataframe tbody tr th:only-of-type {\n",
       "        vertical-align: middle;\n",
       "    }\n",
       "\n",
       "    .dataframe tbody tr th {\n",
       "        vertical-align: top;\n",
       "    }\n",
       "\n",
       "    .dataframe thead th {\n",
       "        text-align: right;\n",
       "    }\n",
       "</style>\n",
       "<table border=\"1\" class=\"dataframe\">\n",
       "  <thead>\n",
       "    <tr style=\"text-align: right;\">\n",
       "      <th></th>\n",
       "      <th>subject_id</th>\n",
       "      <th>hadm_id</th>\n",
       "      <th>seq_num</th>\n",
       "      <th>icd_code</th>\n",
       "      <th>icd_version</th>\n",
       "    </tr>\n",
       "  </thead>\n",
       "  <tbody>\n",
       "    <tr>\n",
       "      <th>0</th>\n",
       "      <td>10000032</td>\n",
       "      <td>22595853</td>\n",
       "      <td>1</td>\n",
       "      <td>5723</td>\n",
       "      <td>9</td>\n",
       "    </tr>\n",
       "    <tr>\n",
       "      <th>1</th>\n",
       "      <td>10000032</td>\n",
       "      <td>22595853</td>\n",
       "      <td>2</td>\n",
       "      <td>78959</td>\n",
       "      <td>9</td>\n",
       "    </tr>\n",
       "    <tr>\n",
       "      <th>2</th>\n",
       "      <td>10000032</td>\n",
       "      <td>22595853</td>\n",
       "      <td>3</td>\n",
       "      <td>5715</td>\n",
       "      <td>9</td>\n",
       "    </tr>\n",
       "    <tr>\n",
       "      <th>3</th>\n",
       "      <td>10000032</td>\n",
       "      <td>22595853</td>\n",
       "      <td>4</td>\n",
       "      <td>07070</td>\n",
       "      <td>9</td>\n",
       "    </tr>\n",
       "    <tr>\n",
       "      <th>4</th>\n",
       "      <td>10000032</td>\n",
       "      <td>22595853</td>\n",
       "      <td>5</td>\n",
       "      <td>496</td>\n",
       "      <td>9</td>\n",
       "    </tr>\n",
       "  </tbody>\n",
       "</table>\n",
       "</div>"
      ],
      "text/plain": [
       "   subject_id   hadm_id  seq_num icd_code  icd_version\n",
       "0    10000032  22595853        1     5723            9\n",
       "1    10000032  22595853        2    78959            9\n",
       "2    10000032  22595853        3     5715            9\n",
       "3    10000032  22595853        4    07070            9\n",
       "4    10000032  22595853        5      496            9"
      ]
     },
     "execution_count": 73,
     "metadata": {},
     "output_type": "execute_result"
    }
   ],
   "source": [
    "diagnoses_df = pd.read_csv('../Data/diagnoses_icd.csv')\n",
    "diagnoses_df.head()"
   ]
  },
  {
   "cell_type": "code",
   "execution_count": 74,
   "id": "b83e50c7-48a5-4735-9f85-33a567cc7ea4",
   "metadata": {},
   "outputs": [
    {
     "name": "stdout",
     "output_type": "stream",
     "text": [
      "20727\n",
      "4763\n"
     ]
    }
   ],
   "source": [
    "subject_ids = []\n",
    "for n in range(len(icd_codes)):\n",
    "    subject_ids += list(diagnoses_df.loc[(diagnoses_df['icd_code'] == icd_codes[n]) & (diagnoses_df['icd_version'] == icd_versions[n]), 'subject_id'])\n",
    "unique_subject_ids = list(set(subject_ids))\n",
    "print(len(subject_ids))\n",
    "print(len(unique_subject_ids))"
   ]
  },
  {
   "cell_type": "markdown",
   "id": "8390e32c-4a57-401f-b484-0cb60ed2fa88",
   "metadata": {},
   "source": [
    "Based on the output of the cell above, kidney disease was diagnosed $20,727$ times. However, only $4,763$ unique patients received such a diagnosis. For these $4,763$ patients, we now identify all diagnoses that were made. The result is stored in the dictionary labeled `kidney_disease_patients`. Note that the keys are the `subject_id`, while the values are tuples of the form: (`seq_num`, `icd_code`, `icd_version`). The entries in the tuple are lists, as there are cases where more than one diagnosis was made."
   ]
  },
  {
   "cell_type": "code",
   "execution_count": 75,
   "id": "2f7290d1-4b82-4d91-b9f0-8d7aee72b476",
   "metadata": {},
   "outputs": [],
   "source": [
    "kidney_disease_patients = {}\n",
    "for n in range(len(unique_subject_ids)):\n",
    "    df_now = diagnoses_df.loc[diagnoses_df['subject_id'] == unique_subject_ids[n]][['seq_num', 'icd_code', 'icd_version']]\n",
    "    kidney_disease_patients[unique_subject_ids[n]] = (list(df_now['seq_num']),\n",
    "                                                     list(df_now['icd_code']),\n",
    "                                                     list(df_now['icd_version']))\n",
    "\n",
    "\n"
   ]
  },
  {
   "cell_type": "code",
   "execution_count": 77,
   "id": "598885cc-129e-41d3-b38f-9bd6bfc3e62d",
   "metadata": {},
   "outputs": [],
   "source": [
    "with open('../Data/kidney_disease_patients.json', 'w') as file:\n",
    "    json.dump(kidney_disease_patients, file)\n",
    "\n",
    "with open('../Data/unique_subject_ids.json', 'w') as file:\n",
    "    json.dump(unique_subject_ids, file)"
   ]
  }
 ],
 "metadata": {
  "kernelspec": {
   "display_name": "Python [conda env:erdos_summer_2025]",
   "language": "python",
   "name": "conda-env-erdos_summer_2025-py"
  },
  "language_info": {
   "codemirror_mode": {
    "name": "ipython",
    "version": 3
   },
   "file_extension": ".py",
   "mimetype": "text/x-python",
   "name": "python",
   "nbconvert_exporter": "python",
   "pygments_lexer": "ipython3",
   "version": "3.12.10"
  }
 },
 "nbformat": 4,
 "nbformat_minor": 5
}
