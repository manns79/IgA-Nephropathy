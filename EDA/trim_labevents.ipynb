{
 "cells": [
  {
   "cell_type": "markdown",
   "id": "eb3ddbe3-c116-44a6-af76-7ff090749d8f",
   "metadata": {},
   "source": [
    "# Trimming the Lab Event Data\n",
    "One of the files that is available through MIMIC-IV and is expected to be important for our analysis is *labevents.csv*. As indicated by the name, this file contains laboratory measurements for the different patients in the dataset. Unfortunately, *labevents.csv* is quite large, which prevents us from uploading the file to the GitHub repository or storing the data in a single pandas dataframe. For these reasons, in this notebook we reduce the size of *labevents.csv* to a more manegable level. The first step in achieving this goal is eliminating all rows pertaining to patients that **do not** have kidney disease. Second, by sorting through *d_labitems.csv*, Amelia found that only $332$ of the laboratory measurements are relevant to our study. The relevant laboratory measurements are listed in *Reduced_labitems.csv*. We use the `itemid` of these $332$ laboratory measurements to further reduce the size of *labevents.csv*. Importantly, neither of these two steps eliminate information that is useful for our study. "
   ]
  },
  {
   "cell_type": "code",
   "execution_count": 14,
   "id": "ce66775f-537c-4dca-a7da-1223fd9fb6f7",
   "metadata": {},
   "outputs": [],
   "source": [
    "import pandas as pd\n",
    "import json"
   ]
  },
  {
   "cell_type": "markdown",
   "id": "0edfda4c-9541-4eb8-a6aa-9ac45d14d110",
   "metadata": {},
   "source": [
    "The next cell executes the first step in the reduction. Specifically, we process *labevents.csv* in chunks, where in each chunk we look for the `subject_id` of patients that were diagnosed with kidney disease. The rows corresponding to such patients are saved in a dataframe called `labevents_df`. "
   ]
  },
  {
   "cell_type": "code",
   "execution_count": 15,
   "id": "e91f49bc-a47b-43af-a785-734340e117c1",
   "metadata": {},
   "outputs": [
    {
     "name": "stderr",
     "output_type": "stream",
     "text": [
      "C:\\Users\\steven\\AppData\\Local\\Temp\\ipykernel_9944\\3966553609.py:28: FutureWarning: The behavior of DataFrame concatenation with empty or all-NA entries is deprecated. In a future version, this will no longer exclude empty or all-NA columns when determining the result dtypes. To retain the old behavior, exclude the relevant entries before the concat operation.\n",
      "  labevents_df = pd.concat([labevents_df, chunk_reduced])\n"
     ]
    }
   ],
   "source": [
    "with open('../Data/unique_subject_ids.json', 'r') as file:\n",
    "    unique_subject_ids = json.load(file)\n",
    "\n",
    "labevents_cols = ['labevent_id',\n",
    "                 'subject_id',\n",
    "                 'hadm_id',\n",
    "                 'specimen_id',\n",
    "                 'itemid',\n",
    "                 'order_provider_id',\n",
    "                 'charttime',\n",
    "                 'storetime',\n",
    "                 'value',\n",
    "                 'valuenum',\n",
    "                 'valueuom',\n",
    "                 'ref_range_lower',\n",
    "                 'ref_range_upper',\n",
    "                 'flag',\n",
    "                 'priority',\n",
    "                 'comments']\n",
    "labevents_df = pd.DataFrame(columns = labevents_cols)\n",
    "chunk_size = 10**6 \n",
    "for chunk in pd.read_csv('../Data/labevents.csv', chunksize = chunk_size):\n",
    "    for n in unique_subject_ids:\n",
    "        chunk_reduced = chunk.loc[chunk['subject_id'] == n]\n",
    "        if chunk_reduced.empty:\n",
    "            pass\n",
    "        else:\n",
    "            labevents_df = pd.concat([labevents_df, chunk_reduced])"
   ]
  },
  {
   "cell_type": "markdown",
   "id": "d423daf5-6198-4a58-8749-5c9f53604349",
   "metadata": {},
   "source": [
    "The remainder of this notebook focuses on the second step in the reduction. This entails getting the `itemid` values from *Reduced_labitems.csv*, then dropping all rows of `labevents_df` that are not associated with an `itemid` that is relevant to our study. The result is written to a csv file called *kidney_disease_patients_labs.csv*."
   ]
  },
  {
   "cell_type": "code",
   "execution_count": 42,
   "id": "34097534-672f-4d2b-8611-30ebe7d1be17",
   "metadata": {},
   "outputs": [
    {
     "name": "stderr",
     "output_type": "stream",
     "text": [
      "C:\\Users\\steven\\AppData\\Local\\Temp\\ipykernel_9944\\115827699.py:6: FutureWarning: The behavior of DataFrame concatenation with empty or all-NA entries is deprecated. In a future version, this will no longer exclude empty or all-NA columns when determining the result dtypes. To retain the old behavior, exclude the relevant entries before the concat operation.\n",
      "  kidney_disease_patients_labs_df = pd.concat([kidney_disease_patients_labs_df, lab_n_df])\n"
     ]
    }
   ],
   "source": [
    "reduced_labitems_df = pd.read_csv('../Data/Reduced_labitems.csv')\n",
    "labs_itemid = list(reduced_labitems_df['itemid'])\n",
    "kidney_disease_patients_labs_df = pd.DataFrame(columns = labevents_cols)\n",
    "for n in labs_itemid:\n",
    "    lab_n_df = labevents_df.loc[labevents_df['itemid'] == n]\n",
    "    kidney_disease_patients_labs_df = pd.concat([kidney_disease_patients_labs_df, lab_n_df])"
   ]
  },
  {
   "cell_type": "code",
   "execution_count": 43,
   "id": "c782c081-5388-4ccd-8700-ea6fde60accb",
   "metadata": {},
   "outputs": [
    {
     "name": "stdout",
     "output_type": "stream",
     "text": [
      "(7453719, 16)\n",
      "(6050074, 16)\n"
     ]
    }
   ],
   "source": [
    "kidney_disease_patients_labs_df.to_csv('../Data/kidney_disease_patients_labs.csv', index = False)\n",
    "print(labevents_df.shape)\n",
    "print(kidney_disease_patients_labs_df.shape)"
   ]
  },
  {
   "cell_type": "markdown",
   "id": "84d8d768-0d9c-44ad-8d98-9f79e2b6106b",
   "metadata": {},
   "source": [
    "Based on the output of the cell above, the second step in the reduction eliminated $1,403,645$ rows from the dataframe. "
   ]
  }
 ],
 "metadata": {
  "kernelspec": {
   "display_name": "Python [conda env:erdos_summer_2025]",
   "language": "python",
   "name": "conda-env-erdos_summer_2025-py"
  },
  "language_info": {
   "codemirror_mode": {
    "name": "ipython",
    "version": 3
   },
   "file_extension": ".py",
   "mimetype": "text/x-python",
   "name": "python",
   "nbconvert_exporter": "python",
   "pygments_lexer": "ipython3",
   "version": "3.12.10"
  }
 },
 "nbformat": 4,
 "nbformat_minor": 5
}
